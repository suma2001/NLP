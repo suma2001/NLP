{
 "cells": [
  {
   "cell_type": "code",
   "execution_count": 2,
   "metadata": {},
   "outputs": [
    {
     "name": "stderr",
     "output_type": "stream",
     "text": [
      "[nltk_data] Downloading package stopwords to\n",
      "[nltk_data]     C:\\Users\\sumas\\AppData\\Roaming\\nltk_data...\n",
      "[nltk_data]   Package stopwords is already up-to-date!\n",
      "[nltk_data] Downloading package wordnet to\n",
      "[nltk_data]     C:\\Users\\sumas\\AppData\\Roaming\\nltk_data...\n",
      "[nltk_data]   Package wordnet is already up-to-date!\n"
     ]
    },
    {
     "data": {
      "text/html": [
       "        <script type=\"text/javascript\">\n",
       "        window.PlotlyConfig = {MathJaxConfig: 'local'};\n",
       "        if (window.MathJax) {MathJax.Hub.Config({SVG: {font: \"STIX-Web\"}});}\n",
       "        if (typeof require !== 'undefined') {\n",
       "        require.undef(\"plotly\");\n",
       "        requirejs.config({\n",
       "            paths: {\n",
       "                'plotly': ['https://cdn.plot.ly/plotly-2.6.3.min']\n",
       "            }\n",
       "        });\n",
       "        require(['plotly'], function(Plotly) {\n",
       "            window._Plotly = Plotly;\n",
       "        });\n",
       "        }\n",
       "        </script>\n",
       "        "
      ]
     },
     "metadata": {},
     "output_type": "display_data"
    }
   ],
   "source": [
    "import gc # garbage collector\n",
    "import numpy as np # linear algebra\n",
    "from collections import Counter # for counting commong words\n",
    "import pandas as pd # data processing, CSV file I/O (e.g. pd.read_csv)\n",
    "import matplotlib.pyplot as plt # visualization\n",
    "plt.style.use('fivethirtyeight') # use ggplot ploting style\n",
    "import seaborn as sns # visualization \n",
    "from wordcloud import WordCloud, STOPWORDS # this module is for making wordcloud in python\n",
    "import re # regular expression\n",
    "import string # for finding punctuation in text\n",
    "import nltk\n",
    "nltk.download('stopwords')# preprocessing text\n",
    "nltk.download('wordnet')\n",
    "from textblob import TextBlob\n",
    "#import ploty for visualization\n",
    "import plotly\n",
    "import plotly.offline as py # make offline \n",
    "py.init_notebook_mode(connected=True)\n",
    "import plotly.tools as tls\n",
    "import plotly.graph_objs as go\n",
    "from plotly.graph_objs import *\n",
    "import plotly.tools as tls\n",
    "import plotly.figure_factory as fig_fact\n",
    "# plotly.tools.set_config_file(world_readable=True, sharing='public')\n",
    "# remove war\n",
    "import warnings\n",
    "warnings.filterwarnings('ignore')\n",
    "# this will allow ploting inside the notebook\n",
    "from sklearn.feature_extraction.text import CountVectorizer\n",
    "from sklearn.naive_bayes import GaussianNB\n",
    "%matplotlib inline\n",
    "from sklearn.feature_extraction.text import CountVectorizer\n",
    "from sklearn.model_selection import train_test_split, cross_val_score\n",
    "from sklearn.metrics import classification_report\n",
    "from sklearn.metrics import confusion_matrix, accuracy_score, roc_auc_score, roc_curve\n",
    "\n",
    "import nltk\n",
    "from nltk.corpus import stopwords"
   ]
  },
  {
   "cell_type": "markdown",
   "metadata": {},
   "source": [
    "### Import the reviews file"
   ]
  },
  {
   "cell_type": "code",
   "execution_count": 3,
   "metadata": {},
   "outputs": [],
   "source": [
    "import pandas as pd\n",
    "reviews_dataset = pd.read_csv('csv/foodonreviews.csv')\n",
    "reviews_dataset.drop('Unnamed: 0',axis=1,inplace= True)"
   ]
  },
  {
   "cell_type": "code",
   "execution_count": 4,
   "metadata": {},
   "outputs": [
    {
     "data": {
      "text/html": [
       "<div>\n",
       "<style scoped>\n",
       "    .dataframe tbody tr th:only-of-type {\n",
       "        vertical-align: middle;\n",
       "    }\n",
       "\n",
       "    .dataframe tbody tr th {\n",
       "        vertical-align: top;\n",
       "    }\n",
       "\n",
       "    .dataframe thead th {\n",
       "        text-align: right;\n",
       "    }\n",
       "</style>\n",
       "<table border=\"1\" class=\"dataframe\">\n",
       "  <thead>\n",
       "    <tr style=\"text-align: right;\">\n",
       "      <th></th>\n",
       "      <th>business_id</th>\n",
       "      <th>name</th>\n",
       "      <th>neighborhood</th>\n",
       "      <th>address</th>\n",
       "      <th>city</th>\n",
       "      <th>state</th>\n",
       "      <th>postal_code</th>\n",
       "      <th>latitude</th>\n",
       "      <th>longitude</th>\n",
       "      <th>stars_x</th>\n",
       "      <th>...</th>\n",
       "      <th>category9</th>\n",
       "      <th>category10</th>\n",
       "      <th>review_id</th>\n",
       "      <th>user_id</th>\n",
       "      <th>stars_y</th>\n",
       "      <th>date</th>\n",
       "      <th>text</th>\n",
       "      <th>useful</th>\n",
       "      <th>funny</th>\n",
       "      <th>cool</th>\n",
       "    </tr>\n",
       "  </thead>\n",
       "  <tbody>\n",
       "    <tr>\n",
       "      <th>0</th>\n",
       "      <td>xcgFnd-MwkZeO5G2HQ0gAQ</td>\n",
       "      <td>\"t &amp; t bakery and cafe\"</td>\n",
       "      <td>markham village</td>\n",
       "      <td>\"35 main street n\"</td>\n",
       "      <td>markham</td>\n",
       "      <td>on</td>\n",
       "      <td>L3P 1X3</td>\n",
       "      <td>43.875177</td>\n",
       "      <td>-79.260153</td>\n",
       "      <td>4.0</td>\n",
       "      <td>...</td>\n",
       "      <td>NaN</td>\n",
       "      <td>NaN</td>\n",
       "      <td>0WaSfUvfuw_py2t6rYfgcA</td>\n",
       "      <td>JnXYIUYuFkGGxgneBkmeBw</td>\n",
       "      <td>5</td>\n",
       "      <td>2016-06-05</td>\n",
       "      <td>It's sad to read all these shallow reviews of ...</td>\n",
       "      <td>2</td>\n",
       "      <td>0</td>\n",
       "      <td>0</td>\n",
       "    </tr>\n",
       "    <tr>\n",
       "      <th>1</th>\n",
       "      <td>xcgFnd-MwkZeO5G2HQ0gAQ</td>\n",
       "      <td>\"t &amp; t bakery and cafe\"</td>\n",
       "      <td>markham village</td>\n",
       "      <td>\"35 main street n\"</td>\n",
       "      <td>markham</td>\n",
       "      <td>on</td>\n",
       "      <td>L3P 1X3</td>\n",
       "      <td>43.875177</td>\n",
       "      <td>-79.260153</td>\n",
       "      <td>4.0</td>\n",
       "      <td>...</td>\n",
       "      <td>NaN</td>\n",
       "      <td>NaN</td>\n",
       "      <td>npO0_q1OAnoGz5oyXz9t1A</td>\n",
       "      <td>PBV_oQCoABX958-zjiLGwQ</td>\n",
       "      <td>2</td>\n",
       "      <td>2015-10-21</td>\n",
       "      <td>Re-reviewing this restaurant after our last 2 ...</td>\n",
       "      <td>2</td>\n",
       "      <td>1</td>\n",
       "      <td>0</td>\n",
       "    </tr>\n",
       "    <tr>\n",
       "      <th>2</th>\n",
       "      <td>xcgFnd-MwkZeO5G2HQ0gAQ</td>\n",
       "      <td>\"t &amp; t bakery and cafe\"</td>\n",
       "      <td>markham village</td>\n",
       "      <td>\"35 main street n\"</td>\n",
       "      <td>markham</td>\n",
       "      <td>on</td>\n",
       "      <td>L3P 1X3</td>\n",
       "      <td>43.875177</td>\n",
       "      <td>-79.260153</td>\n",
       "      <td>4.0</td>\n",
       "      <td>...</td>\n",
       "      <td>NaN</td>\n",
       "      <td>NaN</td>\n",
       "      <td>-qf5sss_W53W0hN8bXTVYw</td>\n",
       "      <td>_f5fHijZb6xocu_jNeZvPA</td>\n",
       "      <td>5</td>\n",
       "      <td>2012-08-19</td>\n",
       "      <td>I'm always excited to go there for breakfast! ...</td>\n",
       "      <td>2</td>\n",
       "      <td>1</td>\n",
       "      <td>1</td>\n",
       "    </tr>\n",
       "    <tr>\n",
       "      <th>3</th>\n",
       "      <td>xcgFnd-MwkZeO5G2HQ0gAQ</td>\n",
       "      <td>\"t &amp; t bakery and cafe\"</td>\n",
       "      <td>markham village</td>\n",
       "      <td>\"35 main street n\"</td>\n",
       "      <td>markham</td>\n",
       "      <td>on</td>\n",
       "      <td>L3P 1X3</td>\n",
       "      <td>43.875177</td>\n",
       "      <td>-79.260153</td>\n",
       "      <td>4.0</td>\n",
       "      <td>...</td>\n",
       "      <td>NaN</td>\n",
       "      <td>NaN</td>\n",
       "      <td>asbgm-pDBk55ZIy9NuRnug</td>\n",
       "      <td>148jNH5eI1ZHXLOm1DHiFg</td>\n",
       "      <td>5</td>\n",
       "      <td>2015-04-05</td>\n",
       "      <td>This place is absolutely awesome.\\n\\nCheap, go...</td>\n",
       "      <td>1</td>\n",
       "      <td>2</td>\n",
       "      <td>0</td>\n",
       "    </tr>\n",
       "    <tr>\n",
       "      <th>4</th>\n",
       "      <td>xcgFnd-MwkZeO5G2HQ0gAQ</td>\n",
       "      <td>\"t &amp; t bakery and cafe\"</td>\n",
       "      <td>markham village</td>\n",
       "      <td>\"35 main street n\"</td>\n",
       "      <td>markham</td>\n",
       "      <td>on</td>\n",
       "      <td>L3P 1X3</td>\n",
       "      <td>43.875177</td>\n",
       "      <td>-79.260153</td>\n",
       "      <td>4.0</td>\n",
       "      <td>...</td>\n",
       "      <td>NaN</td>\n",
       "      <td>NaN</td>\n",
       "      <td>_E-LFY0YnjwwiZ1K0m8cuw</td>\n",
       "      <td>abG99DJ23yOBkhaqICuFyA</td>\n",
       "      <td>5</td>\n",
       "      <td>2014-02-03</td>\n",
       "      <td>This place is an iconic spot in Markham Villag...</td>\n",
       "      <td>1</td>\n",
       "      <td>0</td>\n",
       "      <td>0</td>\n",
       "    </tr>\n",
       "    <tr>\n",
       "      <th>...</th>\n",
       "      <td>...</td>\n",
       "      <td>...</td>\n",
       "      <td>...</td>\n",
       "      <td>...</td>\n",
       "      <td>...</td>\n",
       "      <td>...</td>\n",
       "      <td>...</td>\n",
       "      <td>...</td>\n",
       "      <td>...</td>\n",
       "      <td>...</td>\n",
       "      <td>...</td>\n",
       "      <td>...</td>\n",
       "      <td>...</td>\n",
       "      <td>...</td>\n",
       "      <td>...</td>\n",
       "      <td>...</td>\n",
       "      <td>...</td>\n",
       "      <td>...</td>\n",
       "      <td>...</td>\n",
       "      <td>...</td>\n",
       "      <td>...</td>\n",
       "    </tr>\n",
       "    <tr>\n",
       "      <th>438279</th>\n",
       "      <td>nGjEV4bn0DPk8bcb0C6Aig</td>\n",
       "      <td>\"sweet serendipity bake shop\"</td>\n",
       "      <td>the danforth</td>\n",
       "      <td>\"1335 danforth avenue\"</td>\n",
       "      <td>toronto</td>\n",
       "      <td>on</td>\n",
       "      <td>M4J 1N1</td>\n",
       "      <td>43.682054</td>\n",
       "      <td>-79.328996</td>\n",
       "      <td>4.5</td>\n",
       "      <td>...</td>\n",
       "      <td>NaN</td>\n",
       "      <td>NaN</td>\n",
       "      <td>2Dg_RzFDkPQBnbdwzzjmMg</td>\n",
       "      <td>f6vsIAG-k4R3_oUgtHtazQ</td>\n",
       "      <td>4</td>\n",
       "      <td>2016-10-19</td>\n",
       "      <td>Ordered the pumpkin pie for thanksgiving and i...</td>\n",
       "      <td>2</td>\n",
       "      <td>0</td>\n",
       "      <td>0</td>\n",
       "    </tr>\n",
       "    <tr>\n",
       "      <th>438280</th>\n",
       "      <td>kLFm_kehXNZkUc1oa2-Eaw</td>\n",
       "      <td>\"nuno's churrasqueira\"</td>\n",
       "      <td>brockton village</td>\n",
       "      <td>\"1560 dundas st w\"</td>\n",
       "      <td>toronto</td>\n",
       "      <td>on</td>\n",
       "      <td>M6K 1T5</td>\n",
       "      <td>43.649789</td>\n",
       "      <td>-79.433928</td>\n",
       "      <td>3.0</td>\n",
       "      <td>...</td>\n",
       "      <td>NaN</td>\n",
       "      <td>NaN</td>\n",
       "      <td>Pz2I9INhJGqPaSvPPmr79g</td>\n",
       "      <td>N6QHZume4KDbcfR5_ue5zA</td>\n",
       "      <td>1</td>\n",
       "      <td>2011-11-27</td>\n",
       "      <td>One word, horrible! Just because I don't speak...</td>\n",
       "      <td>0</td>\n",
       "      <td>0</td>\n",
       "      <td>0</td>\n",
       "    </tr>\n",
       "    <tr>\n",
       "      <th>438281</th>\n",
       "      <td>kLFm_kehXNZkUc1oa2-Eaw</td>\n",
       "      <td>\"nuno's churrasqueira\"</td>\n",
       "      <td>brockton village</td>\n",
       "      <td>\"1560 dundas st w\"</td>\n",
       "      <td>toronto</td>\n",
       "      <td>on</td>\n",
       "      <td>M6K 1T5</td>\n",
       "      <td>43.649789</td>\n",
       "      <td>-79.433928</td>\n",
       "      <td>3.0</td>\n",
       "      <td>...</td>\n",
       "      <td>NaN</td>\n",
       "      <td>NaN</td>\n",
       "      <td>ykL_MhYpraYt3TkJaOPeaw</td>\n",
       "      <td>RrLRd9M2Q6iYCNnKMZsdtw</td>\n",
       "      <td>4</td>\n",
       "      <td>2011-10-14</td>\n",
       "      <td>Tiny little restaurant at Dundas and Sheridan,...</td>\n",
       "      <td>2</td>\n",
       "      <td>1</td>\n",
       "      <td>2</td>\n",
       "    </tr>\n",
       "    <tr>\n",
       "      <th>438282</th>\n",
       "      <td>kLFm_kehXNZkUc1oa2-Eaw</td>\n",
       "      <td>\"nuno's churrasqueira\"</td>\n",
       "      <td>brockton village</td>\n",
       "      <td>\"1560 dundas st w\"</td>\n",
       "      <td>toronto</td>\n",
       "      <td>on</td>\n",
       "      <td>M6K 1T5</td>\n",
       "      <td>43.649789</td>\n",
       "      <td>-79.433928</td>\n",
       "      <td>3.0</td>\n",
       "      <td>...</td>\n",
       "      <td>NaN</td>\n",
       "      <td>NaN</td>\n",
       "      <td>zCJjY733RZPnwK4mn1s9xQ</td>\n",
       "      <td>F3MUcn2wx84vK6Or2Es-wg</td>\n",
       "      <td>3</td>\n",
       "      <td>2011-11-12</td>\n",
       "      <td>Went here for dinner last night. Portions were...</td>\n",
       "      <td>0</td>\n",
       "      <td>0</td>\n",
       "      <td>1</td>\n",
       "    </tr>\n",
       "    <tr>\n",
       "      <th>438283</th>\n",
       "      <td>kLFm_kehXNZkUc1oa2-Eaw</td>\n",
       "      <td>\"nuno's churrasqueira\"</td>\n",
       "      <td>brockton village</td>\n",
       "      <td>\"1560 dundas st w\"</td>\n",
       "      <td>toronto</td>\n",
       "      <td>on</td>\n",
       "      <td>M6K 1T5</td>\n",
       "      <td>43.649789</td>\n",
       "      <td>-79.433928</td>\n",
       "      <td>3.0</td>\n",
       "      <td>...</td>\n",
       "      <td>NaN</td>\n",
       "      <td>NaN</td>\n",
       "      <td>hPm05tip88tcRgMErrso0A</td>\n",
       "      <td>n1e_Qo613H-Y5PWoheB1Xw</td>\n",
       "      <td>4</td>\n",
       "      <td>2011-11-25</td>\n",
       "      <td>I have only gotten the Half Chicken Dinner her...</td>\n",
       "      <td>0</td>\n",
       "      <td>0</td>\n",
       "      <td>0</td>\n",
       "    </tr>\n",
       "  </tbody>\n",
       "</table>\n",
       "<p>438284 rows × 30 columns</p>\n",
       "</div>"
      ],
      "text/plain": [
       "                   business_id                           name  \\\n",
       "0       xcgFnd-MwkZeO5G2HQ0gAQ        \"t & t bakery and cafe\"   \n",
       "1       xcgFnd-MwkZeO5G2HQ0gAQ        \"t & t bakery and cafe\"   \n",
       "2       xcgFnd-MwkZeO5G2HQ0gAQ        \"t & t bakery and cafe\"   \n",
       "3       xcgFnd-MwkZeO5G2HQ0gAQ        \"t & t bakery and cafe\"   \n",
       "4       xcgFnd-MwkZeO5G2HQ0gAQ        \"t & t bakery and cafe\"   \n",
       "...                        ...                            ...   \n",
       "438279  nGjEV4bn0DPk8bcb0C6Aig  \"sweet serendipity bake shop\"   \n",
       "438280  kLFm_kehXNZkUc1oa2-Eaw         \"nuno's churrasqueira\"   \n",
       "438281  kLFm_kehXNZkUc1oa2-Eaw         \"nuno's churrasqueira\"   \n",
       "438282  kLFm_kehXNZkUc1oa2-Eaw         \"nuno's churrasqueira\"   \n",
       "438283  kLFm_kehXNZkUc1oa2-Eaw         \"nuno's churrasqueira\"   \n",
       "\n",
       "            neighborhood                 address     city state postal_code  \\\n",
       "0        markham village      \"35 main street n\"  markham    on     L3P 1X3   \n",
       "1        markham village      \"35 main street n\"  markham    on     L3P 1X3   \n",
       "2        markham village      \"35 main street n\"  markham    on     L3P 1X3   \n",
       "3        markham village      \"35 main street n\"  markham    on     L3P 1X3   \n",
       "4        markham village      \"35 main street n\"  markham    on     L3P 1X3   \n",
       "...                  ...                     ...      ...   ...         ...   \n",
       "438279      the danforth  \"1335 danforth avenue\"  toronto    on     M4J 1N1   \n",
       "438280  brockton village      \"1560 dundas st w\"  toronto    on     M6K 1T5   \n",
       "438281  brockton village      \"1560 dundas st w\"  toronto    on     M6K 1T5   \n",
       "438282  brockton village      \"1560 dundas st w\"  toronto    on     M6K 1T5   \n",
       "438283  brockton village      \"1560 dundas st w\"  toronto    on     M6K 1T5   \n",
       "\n",
       "         latitude  longitude  stars_x  ...  category9  category10  \\\n",
       "0       43.875177 -79.260153      4.0  ...        NaN         NaN   \n",
       "1       43.875177 -79.260153      4.0  ...        NaN         NaN   \n",
       "2       43.875177 -79.260153      4.0  ...        NaN         NaN   \n",
       "3       43.875177 -79.260153      4.0  ...        NaN         NaN   \n",
       "4       43.875177 -79.260153      4.0  ...        NaN         NaN   \n",
       "...           ...        ...      ...  ...        ...         ...   \n",
       "438279  43.682054 -79.328996      4.5  ...        NaN         NaN   \n",
       "438280  43.649789 -79.433928      3.0  ...        NaN         NaN   \n",
       "438281  43.649789 -79.433928      3.0  ...        NaN         NaN   \n",
       "438282  43.649789 -79.433928      3.0  ...        NaN         NaN   \n",
       "438283  43.649789 -79.433928      3.0  ...        NaN         NaN   \n",
       "\n",
       "                     review_id                 user_id stars_y        date  \\\n",
       "0       0WaSfUvfuw_py2t6rYfgcA  JnXYIUYuFkGGxgneBkmeBw       5  2016-06-05   \n",
       "1       npO0_q1OAnoGz5oyXz9t1A  PBV_oQCoABX958-zjiLGwQ       2  2015-10-21   \n",
       "2       -qf5sss_W53W0hN8bXTVYw  _f5fHijZb6xocu_jNeZvPA       5  2012-08-19   \n",
       "3       asbgm-pDBk55ZIy9NuRnug  148jNH5eI1ZHXLOm1DHiFg       5  2015-04-05   \n",
       "4       _E-LFY0YnjwwiZ1K0m8cuw  abG99DJ23yOBkhaqICuFyA       5  2014-02-03   \n",
       "...                        ...                     ...     ...         ...   \n",
       "438279  2Dg_RzFDkPQBnbdwzzjmMg  f6vsIAG-k4R3_oUgtHtazQ       4  2016-10-19   \n",
       "438280  Pz2I9INhJGqPaSvPPmr79g  N6QHZume4KDbcfR5_ue5zA       1  2011-11-27   \n",
       "438281  ykL_MhYpraYt3TkJaOPeaw  RrLRd9M2Q6iYCNnKMZsdtw       4  2011-10-14   \n",
       "438282  zCJjY733RZPnwK4mn1s9xQ  F3MUcn2wx84vK6Or2Es-wg       3  2011-11-12   \n",
       "438283  hPm05tip88tcRgMErrso0A  n1e_Qo613H-Y5PWoheB1Xw       4  2011-11-25   \n",
       "\n",
       "                                                     text useful funny cool  \n",
       "0       It's sad to read all these shallow reviews of ...      2     0    0  \n",
       "1       Re-reviewing this restaurant after our last 2 ...      2     1    0  \n",
       "2       I'm always excited to go there for breakfast! ...      2     1    1  \n",
       "3       This place is absolutely awesome.\\n\\nCheap, go...      1     2    0  \n",
       "4       This place is an iconic spot in Markham Villag...      1     0    0  \n",
       "...                                                   ...    ...   ...  ...  \n",
       "438279  Ordered the pumpkin pie for thanksgiving and i...      2     0    0  \n",
       "438280  One word, horrible! Just because I don't speak...      0     0    0  \n",
       "438281  Tiny little restaurant at Dundas and Sheridan,...      2     1    2  \n",
       "438282  Went here for dinner last night. Portions were...      0     0    1  \n",
       "438283  I have only gotten the Half Chicken Dinner her...      0     0    0  \n",
       "\n",
       "[438284 rows x 30 columns]"
      ]
     },
     "execution_count": 4,
     "metadata": {},
     "output_type": "execute_result"
    }
   ],
   "source": [
    "reviews_dataset"
   ]
  },
  {
   "cell_type": "code",
   "execution_count": 5,
   "metadata": {},
   "outputs": [
    {
     "name": "stdout",
     "output_type": "stream",
     "text": [
      "Total No. of Reviews: 438284\n"
     ]
    }
   ],
   "source": [
    "# reviews_dataset.shape[0] - gives number of row count\n",
    "print(\"Total No. of Reviews: {}\".format(reviews_dataset.shape[0]))"
   ]
  },
  {
   "cell_type": "code",
   "execution_count": 6,
   "metadata": {},
   "outputs": [
    {
     "data": {
      "text/plain": [
       "(438284, 30)"
      ]
     },
     "execution_count": 6,
     "metadata": {},
     "output_type": "execute_result"
    }
   ],
   "source": [
    "reviews_dataset.shape"
   ]
  },
  {
   "cell_type": "code",
   "execution_count": 7,
   "metadata": {},
   "outputs": [],
   "source": [
    "sample_review = reviews_dataset.text[28]"
   ]
  },
  {
   "cell_type": "code",
   "execution_count": 8,
   "metadata": {},
   "outputs": [
    {
     "data": {
      "text/plain": [
       "Index(['business_id', 'name', 'neighborhood', 'address', 'city', 'state',\n",
       "       'postal_code', 'latitude', 'longitude', 'stars_x', 'review_count',\n",
       "       'is_open', 'category1', 'category2', 'category3', 'category4',\n",
       "       'category5', 'category6', 'category7', 'category8', 'category9',\n",
       "       'category10', 'review_id', 'user_id', 'stars_y', 'date', 'text',\n",
       "       'useful', 'funny', 'cool'],\n",
       "      dtype='object')"
      ]
     },
     "execution_count": 8,
     "metadata": {},
     "output_type": "execute_result"
    }
   ],
   "source": [
    "reviews_dataset.columns"
   ]
  },
  {
   "cell_type": "markdown",
   "metadata": {},
   "source": [
    "### Frequency of each star ratings"
   ]
  },
  {
   "cell_type": "code",
   "execution_count": 9,
   "metadata": {
    "scrolled": true
   },
   "outputs": [
    {
     "data": {
      "text/plain": [
       "4    144389\n",
       "5    123975\n",
       "3     81017\n",
       "2     45104\n",
       "1     43799\n",
       "Name: stars_y, dtype: int64"
      ]
     },
     "execution_count": 9,
     "metadata": {},
     "output_type": "execute_result"
    }
   ],
   "source": [
    "reviews_dataset[\"stars_y\"].value_counts()"
   ]
  },
  {
   "cell_type": "code",
   "execution_count": 10,
   "metadata": {},
   "outputs": [
    {
     "data": {
      "image/png": "[encoded data removed]",
      "text/plain": [
       "<Figure size 432x288 with 1 Axes>"
      ]
     },
     "metadata": {},
     "output_type": "display_data"
    }
   ],
   "source": [
    "labels = '5-Stars', '4-Stars', '1-Star', '3-Stars', '2-Stars'\n",
    "sizes = reviews_dataset[\"stars_y\"].value_counts()\n",
    "colors = ['lightpink', 'yellowgreen', 'orange', 'lightskyblue','green']\n",
    "# Plot\n",
    "plt.pie(sizes, labels=labels, colors =colors, autopct='%1.1f%%')\n",
    "plt.axis('equal')\n",
    "plt.show()"
   ]
  },
  {
   "cell_type": "code",
   "execution_count": 11,
   "metadata": {},
   "outputs": [],
   "source": [
    "from tqdm import tqdm_notebook as tqdm"
   ]
  },
  {
   "cell_type": "markdown",
   "metadata": {},
   "source": [
    "### Porter Stemmer"
   ]
  },
  {
   "cell_type": "code",
   "execution_count": 13,
   "metadata": {},
   "outputs": [],
   "source": [
    "\n",
    "class PorterStemmer2:\n",
    "    def isVowel(self,letter):\n",
    "        vowels = ['a','e','i','o','u','y']\n",
    "        if letter in vowels:\n",
    "            return True\n",
    "        else:\n",
    "            return False\n",
    "    def isDouble(self,seq):\n",
    "        doubles = ['bb','dd','ff','gg','mm','nn','pp','rr','tt']\n",
    "        if seq in doubles:\n",
    "            return True\n",
    "        else:\n",
    "            return False\n",
    "    def isLiEnd(self,letter):\n",
    "        li = ['c','d','e','g','h','k','m','n','r','t']\n",
    "        if letter in li:\n",
    "            return True\n",
    "        else:\n",
    "            return False\n",
    "    def getR1(self,word):\n",
    "        R1 = \"\"\n",
    "        for i in range(len(word)):\n",
    "            if not self.isVowel(word[i]):\n",
    "                if i > 0 and self.isVowel(word[i-1]):\n",
    "                    R1 = word[i+1:]\n",
    "                    break\n",
    "        return R1\n",
    "    def getR2(self,word):\n",
    "        R1 = self.getR1(word)\n",
    "        R2 = self.getR1(R1)\n",
    "        return R2\n",
    "    def hasShortSyllable(self,word):\n",
    "        checkIn = ['w','x','Y']\n",
    "        for i in range(len(word)):\n",
    "            if self.isVowel(word[i]):\n",
    "                if i==0 and i+1<len(word):\n",
    "                    if not self.isVowel(word[i+1]):\n",
    "                        return True\n",
    "                elif i>0 and i<len(word)-1:\n",
    "                    if not self.isVowel(word[i-1]) and not self.isVowel(word[i+1]):\n",
    "                        if word[i+1] not in checkIn:\n",
    "                            return True\n",
    "                else:\n",
    "                    pass\n",
    "        return False\n",
    "        \n",
    "    def isShort(self,word):\n",
    "        r1 = self.getR1(word)\n",
    "        if r1 == \"\":\n",
    "            if len(word) >=3:\n",
    "                if self.hasShortSyllable(word[len(word)-3:]):\n",
    "                    return True\n",
    "                else:\n",
    "                    return False\n",
    "            else:\n",
    "                if self.hasShortSyllable(word[len(word)-2:]):\n",
    "                    return True\n",
    "                else:\n",
    "                    return False \n",
    "        else:\n",
    "            return False\n",
    "    def markVowelasCons(self,word):\n",
    "        out = list(word)\n",
    "        for i in range(len(word)):\n",
    "            if i == 0  and out[i] == 'y':\n",
    "                out[i] = 'Y'\n",
    "            elif i>0 and out[i] == 'y' and self.isVowel(out[i-1]):\n",
    "                out[i] = 'Y'\n",
    "            else:\n",
    "                continue\n",
    "        return ''.join(out)\n",
    "\n",
    "    def removeList(self,i,l,wlist):\n",
    "        while i < l:\n",
    "            wlist.pop(i)\n",
    "            l-=1\n",
    "            \n",
    "    def endsWith(self,word,suffix):\n",
    "        if len(word) >= len(suffix):\n",
    "            if word[len(word)-len(suffix):] == suffix:\n",
    "                return True\n",
    "            else:\n",
    "                return False\n",
    "        else:\n",
    "            return False\n",
    "        \n",
    "    def step0(self,wordlist):\n",
    "        l = len(wordlist)\n",
    "        i = l-3\n",
    "        while i < l:\n",
    "            if wordlist[i] == '\\'':\n",
    "                if i == l-1:\n",
    "                    wordlist.pop(i)\n",
    "                    l-=1\n",
    "                else:\n",
    "                    if wordlist[i+1] == 's':\n",
    "                        wordlist.pop(i+1)\n",
    "                        wordlist.pop(i)\n",
    "                        l-=2\n",
    "            else:\n",
    "                i+=1\n",
    "\n",
    "    def step1a(self,wlist):\n",
    "        temp = \"\".join(wlist)\n",
    "        l = len(wlist)\n",
    "        if self.endsWith(temp,\"sses\"):\n",
    "            self.removeList(l-2,l,wlist)\n",
    "        elif self.endsWith(temp,\"ied\") or self.endsWith(temp,\"ies\"):\n",
    "            i = len(wlist)-2\n",
    "            if l <= 4:\n",
    "                i+=1\n",
    "            self.removeList(i,l,wlist)\n",
    "        elif self.endsWith(temp,\"ss\") or self.endsWith(temp,\"us\"):\n",
    "            pass\n",
    "        elif temp[-1] == 's':\n",
    "            r = 0\n",
    "            for i in range(len(wlist)-2):\n",
    "                if self.isVowel(wlist[i]):\n",
    "                    r = 1\n",
    "            if r == 1:\n",
    "                wlist.pop(len(wlist)-1)\n",
    "        else:\n",
    "            pass\n",
    "        \n",
    "    def checkAfter1b(self,wlist):\n",
    "        word = \"\".join(wlist)\n",
    "        last2 = word[len(word)-2:]\n",
    "        if last2 == \"at\" or last2 == \"bl\" or last2 == \"iz\":\n",
    "            wlist.append('e')\n",
    "        elif self.isDouble(last2):\n",
    "            wlist.pop()\n",
    "        elif self.isShort(word):\n",
    "            wlist.append('e')\n",
    "        else:\n",
    "            pass\n",
    "    \n",
    "    def hasVowel(self,prefix):\n",
    "        for i in range(len(prefix)):\n",
    "            if self.isVowel(prefix[i]):\n",
    "                return True\n",
    "        return False\n",
    "    def step1b(self,wlist):\n",
    "        word = \"\".join(wlist)\n",
    "        r1 = self.getR1(word)\n",
    "        i = len(wlist)\n",
    "        l = len(wlist)\n",
    "        if self.endsWith(r1,\"eed\"):\n",
    "            self.removeList(i-1,l,wlist)\n",
    "        elif self.endsWith(r1,\"eedly\"):\n",
    "            self.removeList(i-3,l,wlist)\n",
    "        elif self.endsWith(word,\"ed\") and self.hasVowel(word[:l-2]):\n",
    "            self.removeList(i-2,l,wlist)\n",
    "            self.checkAfter1b(wlist)\n",
    "        elif self.endsWith(word,\"edly\") and self.hasVowel(word[:l-4]):\n",
    "            self.removeList(i-4,l,wlist)\n",
    "            self.checkAfter1b(wlist)\n",
    "        elif self.endsWith(word,\"ing\") and self.hasVowel(word[:l-3]):\n",
    "            self.removeList(i-3,l,wlist)\n",
    "            self.checkAfter1b(wlist)\n",
    "        elif self.endsWith(word,\"ingly\") and self.hasVowel(word[:l-5]):\n",
    "            self.removeList(i-5,l,wlist)\n",
    "            self.checkAfter1b(wlist)\n",
    "        else:\n",
    "            pass\n",
    "\n",
    "    def step1c(self,wlist):\n",
    "        if len(wlist) > 2:\n",
    "            for i in range(2,len(wlist)):\n",
    "                if wlist[i] == 'y' or wlist[i] == \"Y\":\n",
    "                    if not self.isVowel(wlist[i-1]):\n",
    "                        wlist[i] = 'i'\n",
    "                    else:\n",
    "                        pass\n",
    "                else:\n",
    "                    pass\n",
    "        else:\n",
    "            pass\n",
    "        \n",
    "                \n",
    "                \n",
    "    def step2(self,wlist):\n",
    "        word = \"\".join(wlist)\n",
    "        r1 = self.getR1(word)\n",
    "        l = len(wlist)\n",
    "        if self.endsWith(r1,\"tional\"):\n",
    "            self.removeList(l-2,l,wlist)\n",
    "        elif self.endsWith(r1,\"enci\"):\n",
    "            wlist[l-1] = 'e'\n",
    "        elif self.endsWith(r1,\"anci\"):\n",
    "            wlist[l-1] = 'e'\n",
    "        elif self.endsWith(r1,\"abli\"):\n",
    "            wlist[l-1] = 'e'\n",
    "        elif self.endsWith(r1,\"entli\"):\n",
    "            self.removeList(l-2,l,wlist)\n",
    "        elif self.endsWith(r1,\"izer\"):\n",
    "            self.removeList(l-1,l,wlist)\n",
    "        elif self.endsWith(r1,\"ization\"):\n",
    "            self.removeList(l-5,l,wlist)\n",
    "            wlist.append('e')\n",
    "        elif self.endsWith(r1,\"ational\"):\n",
    "            self.removeList(l-5,l,wlist)\n",
    "            wlist.append('e')\n",
    "        elif self.endsWith(r1,\"ation\"):\n",
    "            self.removeList(l-3,l,wlist)\n",
    "            wlist.append('e')\n",
    "        elif self.endsWith(r1,\"ator\"):\n",
    "            self.removeList(l-2,l,wlist)\n",
    "            wlist.append('e')\n",
    "        elif self.endsWith(r1,\"alism\"):\n",
    "            self.removeList(l-3,l,wlist)\n",
    "        elif self.endsWith(r1,\"aliti\"):\n",
    "            self.removeList(l-3,l,wlist)\n",
    "        elif self.endsWith(r1,\"alli\"):\n",
    "            self.removeList(l-2,l,wlist)\n",
    "        elif self.endsWith(r1,\"fulness\"):\n",
    "            self.removeList(l-4,l,wlist)\n",
    "        elif self.endsWith(r1,\"ousli\"):\n",
    "            self.removeList(l-2,l,wlist)\n",
    "        elif self.endsWith(r1,\"ousness\"):\n",
    "            self.removeList(l-4,l,wlist)\n",
    "        elif self.endsWith(r1,\"iveness\"):\n",
    "            self.removeList(l-4,l,wlist)\n",
    "        elif self.endsWith(r1,\"iviti\"):\n",
    "            self.removeList(l-3,l,wlist)\n",
    "            wlist.append('e')\n",
    "        elif self.endsWith(r1,\"biliti\"):\n",
    "            self.removeList(l-5,l,wlist)\n",
    "            wlist.extend(['l','e'])\n",
    "        elif self.endsWith(r1,\"bli\"):\n",
    "            wlist[l-1] = 'e'\n",
    "        elif self.endsWith(r1,\"ogi\"):\n",
    "            if wlist[l-4] == 'l':\n",
    "                wlist.pop()\n",
    "        elif self.endsWith(r1,\"fulli\") or self.endsWith(r1,\"lessli\"):\n",
    "            self.removeList(l-2,l,wlist)\n",
    "        elif self.endsWith(r1,\"li\") and self.isLiEnd(wlist[l-3]):\n",
    "            self.removeList(l-2,l,wlist)\n",
    "        else:\n",
    "            pass\n",
    "            \n",
    "    def step3(self,wlist):\n",
    "        word = \"\".join(wlist)\n",
    "        r1 = self.getR1(word)\n",
    "        r2 = self.getR2(word)\n",
    "        l = len(wlist)\n",
    "        if self.endsWith(r1,\"tional\"):\n",
    "            self.removeList(l-2,l,wlist)\n",
    "        elif self.endsWith(r1,\"ational\"):\n",
    "            self.removeList(l-5,l,wlist)\n",
    "            wlist.append('e')\n",
    "        elif self.endsWith(r1,\"alize\"):\n",
    "            self.removeList(l-3,l,wlist)\n",
    "        elif self.endsWith(r1,\"icate\") or self.endsWith(r1,\"iciti\"):\n",
    "            self.removeList(l-3,l,wlist)\n",
    "        elif self.endsWith(r1,\"ical\"):\n",
    "            self.removeList(l-2,l,wlist)\n",
    "        elif self.endsWith(r1,\"ful\"):\n",
    "            self.removeList(l-3,l,wlist)\n",
    "        elif self.endsWith(r1,\"ness\"):\n",
    "            self.removeList(l-4,l,wlist)\n",
    "        elif self.endsWith(r2,\"ative\"):\n",
    "            self.removeList(l-5,l,wlist)\n",
    "        else:\n",
    "            pass\n",
    "    def step4(self,wlist):\n",
    "        r2 = self.getR2(\"\".join(wlist))\n",
    "        l = len(wlist)\n",
    "        if self.endsWith(r2,\"al\"):\n",
    "            self.removeList(l-2,l,wlist)\n",
    "        elif self.endsWith(r2,\"ance\"):\n",
    "            self.removeList(l-4,l,wlist)\n",
    "        elif self.endsWith(r2,\"ence\"):\n",
    "            self.removeList(l-4,l,wlist)\n",
    "        elif self.endsWith(r2,\"er\"):\n",
    "            self.removeList(l-2,l,wlist)\n",
    "        elif self.endsWith(r2,\"ic\"):\n",
    "            self.removeList(l-2,l,wlist)\n",
    "        elif self.endsWith(r2,\"able\"):\n",
    "            self.removeList(l-4,l,wlist)\n",
    "        elif self.endsWith(r2,\"ible\"):\n",
    "            self.removeList(l-4,l,wlist)\n",
    "        elif self.endsWith(r2,\"ant\"):\n",
    "            self.removeList(l-3,l,wlist)\n",
    "        elif self.endsWith(r2,\"ement\"):\n",
    "            self.removeList(l-5,l,wlist)\n",
    "        elif self.endsWith(r2,\"ment\"):\n",
    "            self.removeList(l-4,l,wlist)\n",
    "        elif self.endsWith(r2,\"ent\"):\n",
    "            self.removeList(l-3,l,wlist)\n",
    "        elif self.endsWith(r2,\"ism\"):\n",
    "            self.removeList(l-3,l,wlist)\n",
    "        elif self.endsWith(r2,\"ate\"):\n",
    "            self.removeList(l-3,l,wlist)\n",
    "        elif self.endsWith(r2,\"iti\"):\n",
    "            self.removeList(l-3,l,wlist)\n",
    "        elif self.endsWith(r2,\"ous\"):\n",
    "            self.removeList(l-3,l,wlist)\n",
    "        elif self.endsWith(r2,\"ive\"):\n",
    "            self.removeList(l-3,l,wlist)\n",
    "        elif self.endsWith(r2,\"ize\"):\n",
    "            self.removeList(l-3,l,wlist)\n",
    "        elif self.endsWith(r2,\"ion\"):\n",
    "            if l > 3:\n",
    "                if wlist[l-4] == 's' or wlist[l-4] == 't':\n",
    "                    self.removeList(l-3,l,wlist)\n",
    "        else:\n",
    "            pass\n",
    "    def step5(self,wlist):\n",
    "        word = \"\".join(wlist)\n",
    "        l = len(wlist)\n",
    "        r1 = self.getR1(word)\n",
    "        r2 = self.getR2(word)\n",
    "        if self.endsWith(r2,'e'):\n",
    "            wlist.pop()\n",
    "        elif self.endsWith(r2,'l') and wlist[l-2] == 'l':\n",
    "            wlist.pop()\n",
    "        elif self.endsWith(r1,'e'):\n",
    "            if l>3:\n",
    "                if not self.hasShortSyllable(word[l-4:l-1]):\n",
    "                    wlist.pop()\n",
    "            else:\n",
    "                if not self.hasShortSyllable(word[l-3:l-1]):\n",
    "                    wlist.pop()\n",
    "        else:\n",
    "            pass\n",
    "            \n",
    "        \n",
    "    def stem(self,word):\n",
    "        if len(word) <= 2:\n",
    "            return word\n",
    "        if word[0] == '\\'':\n",
    "            word = word[1:]\n",
    "        out = list(word)\n",
    "        self.step0(out)\n",
    "        self.step1a(out)\n",
    "        self.step1b(out)\n",
    "        self.step1c(out)\n",
    "        self.step2(out)\n",
    "        self.step3(out)\n",
    "        self.step4(out)\n",
    "        self.step5(out)\n",
    "        final = \"\".join(out)\n",
    "        \n",
    "        return final.lower()"
   ]
  },
  {
   "cell_type": "code",
   "execution_count": 14,
   "metadata": {},
   "outputs": [],
   "source": [
    "porter = PorterStemmer2()"
   ]
  },
  {
   "cell_type": "code",
   "execution_count": 17,
   "metadata": {},
   "outputs": [],
   "source": [
    "stopwords = nltk.corpus.stopwords.words('english')"
   ]
  },
  {
   "cell_type": "markdown",
   "metadata": {},
   "source": [
    "### Preprocess strings"
   ]
  },
  {
   "cell_type": "code",
   "execution_count": 47,
   "metadata": {},
   "outputs": [],
   "source": [
    "def preprocess(x):\n",
    "    x = re.sub('[^a-z\\s]', '', x.lower())                  # get rid of noise\n",
    "    x = [porter.stem(w) for w in x.split() if w not in set(stopwords)]  # remove stopwords\n",
    "    return ' '.join(x)"
   ]
  },
  {
   "cell_type": "markdown",
   "metadata": {},
   "source": [
    "### Load the reviews and star ratings into separate lists "
   ]
  },
  {
   "cell_type": "code",
   "execution_count": 48,
   "metadata": {},
   "outputs": [
    {
     "data": {
      "application/vnd.jupyter.widget-view+json": {
       "model_id": "12ed747660794a4189a01e728a9cefee",
       "version_major": 2,
       "version_minor": 0
      },
      "text/plain": [
       "HBox(children=(HTML(value=''), FloatProgress(value=0.0, max=438285.0), HTML(value='')))"
      ]
     },
     "metadata": {},
     "output_type": "display_data"
    },
    {
     "name": "stdout",
     "output_type": "stream",
     "text": [
      "\n",
      "Wall time: 3.15 s\n"
     ]
    }
   ],
   "source": [
    "%%time\n",
    "# we're interested in the text of each review \n",
    "# and the stars rating, so we load these into \n",
    "# separate lists\n",
    "\n",
    "texts = []\n",
    "stars = [reviews_dataset['stars_y'] for review in reviews_dataset]\n",
    "pbar = tqdm(total=reviews_dataset.shape[0]+1)\n",
    "for index, row in reviews_dataset.iterrows():\n",
    "    texts.append(preprocess(row['text']))\n",
    "    pbar.update(1)\n",
    "    if index>1000:\n",
    "        break\n",
    "pbar.close()"
   ]
  },
  {
   "cell_type": "markdown",
   "metadata": {},
   "source": [
    "### Vectorize the data"
   ]
  },
  {
   "cell_type": "code",
   "execution_count": 2,
   "metadata": {},
   "outputs": [],
   "source": [
    "def word_freq():\n",
    "    wordfreq = {}\n",
    "    for sentence in corpus:\n",
    "        tokens = nltk.word_tokenize(sentence)\n",
    "        for token in tokens:\n",
    "            if token not in wordfreq.keys():\n",
    "                wordfreq[token] = 1\n",
    "            else:\n",
    "                wordfreq[token] += 1\n",
    "    most_freq = heapq.nlargest(200, wordfreq, key=wordfreq.get)"
   ]
  },
  {
   "cell_type": "code",
   "execution_count": 4,
   "metadata": {},
   "outputs": [],
   "source": [
    "def CountVectorizer():\n",
    "    sentence_vectors = []\n",
    "    for sentence in corpus:\n",
    "        sentence_tokens = sentence.split(' ')\n",
    "        sent_vec = []\n",
    "        for token in most_freq:\n",
    "            if token in sentence_tokens:\n",
    "                sent_vec.append(1)\n",
    "            else:\n",
    "                sent_vec.append(0)\n",
    "        sentence_vectors.append(sent_vec)"
   ]
  },
  {
   "cell_type": "code",
   "execution_count": 49,
   "metadata": {},
   "outputs": [
    {
     "name": "stdout",
     "output_type": "stream",
     "text": [
      "Wall time: 57 ms\n"
     ]
    }
   ],
   "source": [
    "%%time\n",
    "# Estimated time: 29.8 s\n",
    "\n",
    "\n",
    "vectorizer = CountVectorizer()\n",
    "\n",
    "# the 'fit' builds up the vocabulary from all the reviews\n",
    "# while the 'transform' step turns each indivdual text into\n",
    "# a matrix of numbers.\n",
    "vectors = vectorizer.fit_transform(texts)"
   ]
  },
  {
   "cell_type": "markdown",
   "metadata": {},
   "source": [
    "### Splitting into train and test dataset"
   ]
  },
  {
   "cell_type": "code",
   "execution_count": 50,
   "metadata": {},
   "outputs": [],
   "source": [
    "from sklearn.model_selection import train_test_split\n",
    "X_train, X_test, y_train, y_test = train_test_split(vectors, stars[1][:1002], test_size=0.15, random_state=42, shuffle =False)"
   ]
  },
  {
   "cell_type": "markdown",
   "metadata": {},
   "source": [
    "### Gaussian Naive Bayes Classifier"
   ]
  },
  {
   "cell_type": "code",
   "execution_count": 55,
   "metadata": {},
   "outputs": [],
   "source": [
    "class GaussianNB:\n",
    "    def summarize(self, data):   #returns mean and variance\n",
    "        mean = dict()\n",
    "        var = dict()\n",
    "        for i in range(1,6):\n",
    "            mean[i] = np.mean(data[i], axis=0)\n",
    "            var[i]=np.var(data[i], axis=0)\n",
    "\n",
    "        return (mean,var)\n",
    "    def g(self, x, u, var):       #helper to calculate normal distribution probability\n",
    "        # e = np.exp(-0.5 * (x-u)**2 / var)  \n",
    "        # return e / np.sqrt(2 * np.pi * var)\n",
    "        # print(var, u)\n",
    "        return ((1 / (np.sqrt(2 * np.pi * var**2))) * np.exp((-1*((x - u)**2)) / (2 * var**2)))\n",
    "    \n",
    "    def naive_func(self, x, mean, var):     #function to implement naive bayees\n",
    "        p = []\n",
    "        for i in range(1,6):\n",
    "            g1 = 1\n",
    "            for j in range(len(x)):\n",
    "                # print(mean[i][j])\n",
    "                a = self.g(x[j],mean[i][j],var[i][j])\n",
    "                # print(a)\n",
    "                g1 *= a\n",
    "            print(g1)\n",
    "            p.append(g1)\n",
    "        return p\n"
   ]
  },
  {
   "cell_type": "code",
   "execution_count": 57,
   "metadata": {},
   "outputs": [
    {
     "name": "stdout",
     "output_type": "stream",
     "text": [
      "[0.   0.   0.   ... 0.02 0.   0.  ]\n",
      "{1: array([0.  , 0.  , 0.  , ..., 0.02, 0.  , 0.  ]), 2: array([0.  , 0.01, 0.  , ..., 0.  , 0.  , 0.  ]), 3: array([0.  , 0.  , 0.  , ..., 0.01, 0.01, 0.  ]), 4: array([0.  , 0.  , 0.  , ..., 0.02, 0.  , 0.01]), 5: array([0.  , 0.  , 0.01, ..., 0.01, 0.  , 0.  ])}\n"
     ]
    }
   ],
   "source": [
    "dic={}\n",
    "for i in range(1,6):\n",
    "    dic[i] = (X_train[np.array(y_train == i)]).toarray()\n",
    "\n",
    "x = GaussianNB()\n",
    "mean, var = x.summarize(dic)\n",
    "print(mean[1])\n",
    "print(var)"
   ]
  },
  {
   "cell_type": "code",
   "execution_count": null,
   "metadata": {},
   "outputs": [],
   "source": [
    "for i in range(len(x_test)):\n",
    "    print(x_test[i])\n",
    "    p = x.naive_func(x_test[101], mean, var)\n",
    "    preds.append(np.argmax(p)+1)\n"
   ]
  },
  {
   "cell_type": "code",
   "execution_count": 51,
   "metadata": {},
   "outputs": [
    {
     "data": {
      "text/plain": [
       "GaussianNB()"
      ]
     },
     "execution_count": 51,
     "metadata": {},
     "output_type": "execute_result"
    }
   ],
   "source": [
    "classifier = GaussianNB()\n",
    "classifier.fit(X_train.toarray(), y_train)"
   ]
  },
  {
   "cell_type": "markdown",
   "metadata": {},
   "source": [
    "### Predictions"
   ]
  },
  {
   "cell_type": "code",
   "execution_count": 52,
   "metadata": {},
   "outputs": [
    {
     "name": "stdout",
     "output_type": "stream",
     "text": [
      "Actual Ratings(Stars): "
     ]
    },
    {
     "data": {
      "text/plain": [
       "851    5\n",
       "852    2\n",
       "853    4\n",
       "854    5\n",
       "855    4\n",
       "      ..\n",
       "946    4\n",
       "947    5\n",
       "948    5\n",
       "949    5\n",
       "950    3\n",
       "Name: stars_y, Length: 100, dtype: int64"
      ]
     },
     "metadata": {},
     "output_type": "display_data"
    },
    {
     "name": "stdout",
     "output_type": "stream",
     "text": [
      "Predicted Ratings: [4 3 3 4 4 5 4 3 3 4 2 4 4 5 4 4 2 4 4 3 4 4 5 5 2 4 3 3 4 4 2 2 3 3 3 4 5\n",
      " 4 5 4 4 3 4 3 3 3 3 2 3 3 3 4 2 3 2 5 3 4 3 5 3 3 3 3 5 5 4 4 3 2 5 5 3 4\n",
      " 4 3 2 4 3 3 5 5 4 2 3 5 5 4 1 4 3 2 5 5 4 4 3 3 4 2]\n"
     ]
    }
   ],
   "source": [
    "\n",
    "preds = classifier.predict(X_test.toarray())\n",
    "print(\"Actual Ratings(Stars): \",end = \"\")\n",
    "display(y_test[:100])\n",
    "print(\"Predicted Ratings: \",end = \"\")\n",
    "print(preds[:100])"
   ]
  },
  {
   "cell_type": "markdown",
   "metadata": {},
   "source": [
    "### Classification Report"
   ]
  },
  {
   "cell_type": "code",
   "execution_count": 53,
   "metadata": {},
   "outputs": [
    {
     "name": "stdout",
     "output_type": "stream",
     "text": [
      "              precision    recall  f1-score   support\n",
      "\n",
      "           1       0.75      0.33      0.46         9\n",
      "           2       0.06      0.17      0.08         6\n",
      "           3       0.19      0.43      0.26        21\n",
      "           4       0.44      0.40      0.42        62\n",
      "           5       0.52      0.25      0.33        53\n",
      "\n",
      "    accuracy                           0.34       151\n",
      "   macro avg       0.39      0.32      0.31       151\n",
      "weighted avg       0.44      0.34      0.36       151\n",
      "\n"
     ]
    }
   ],
   "source": [
    "from sklearn.metrics import classification_report\n",
    "\n",
    "print(classification_report(y_test, preds))"
   ]
  },
  {
   "cell_type": "markdown",
   "metadata": {},
   "source": [
    "### Confusion Matrix"
   ]
  },
  {
   "cell_type": "code",
   "execution_count": 33,
   "metadata": {},
   "outputs": [],
   "source": [
    "## Helper function for plotting confusion metrics\n",
    "\n",
    "# citation: http://scikit-learn.org/stable/auto_examples/model_selection/plot_confusion_matrix.html#sphx-glr-auto-examples-model-selection-plot-confusion-matrix-py\n",
    "import itertools  \n",
    "def plot_confusion_matrix(cm, classes,\n",
    "                          normalize=False,\n",
    "                          title='Confusion matrix',\n",
    "                          cmap=plt.cm.Blues):\n",
    "    \"\"\"\n",
    "    This function prints and plots the confusion matrix.\n",
    "    Normalization can be applied by setting `normalize=True`.\n",
    "    \"\"\"\n",
    "    if normalize:\n",
    "        cm = cm.astype('float') / cm.sum(axis=1)[:, np.newaxis]\n",
    "        print(\"Normalized confusion matrix\")\n",
    "    else:\n",
    "        print('Confusion matrix, without normalization')\n",
    "\n",
    "    print(cm)\n",
    "\n",
    "    plt.imshow(cm, interpolation='nearest', cmap=cmap)\n",
    "    plt.title(title)\n",
    "    plt.colorbar()\n",
    "    tick_marks = np.arange(len(classes))\n",
    "    plt.xticks(tick_marks, classes, rotation=45)\n",
    "    plt.yticks(tick_marks, classes)\n",
    "\n",
    "    fmt = '.2f' if normalize else 'd'\n",
    "    thresh = cm.max() / 2.\n",
    "    for i, j in itertools.product(range(cm.shape[0]), range(cm.shape[1])):\n",
    "        plt.text(j, i, format(cm[i, j], fmt),\n",
    "                 horizontalalignment=\"center\",\n",
    "                 color=\"white\" if cm[i, j] > thresh else \"black\")\n",
    "\n",
    "    plt.tight_layout()\n",
    "    plt.ylabel('True label')\n",
    "    plt.xlabel('Predicted label')"
   ]
  },
  {
   "cell_type": "code",
   "execution_count": 54,
   "metadata": {},
   "outputs": [
    {
     "name": "stdout",
     "output_type": "stream",
     "text": [
      "Confusion matrix, without normalization\n",
      "[[ 3  1  2  2  1]\n",
      " [ 0  1  4  1  0]\n",
      " [ 1  3  9  8  0]\n",
      " [ 0  7 19 25 11]\n",
      " [ 0  6 13 21 13]]\n",
      "Normalized confusion matrix\n",
      "[[0.33 0.11 0.22 0.22 0.11]\n",
      " [0.   0.17 0.67 0.17 0.  ]\n",
      " [0.05 0.14 0.43 0.38 0.  ]\n",
      " [0.   0.11 0.31 0.4  0.18]\n",
      " [0.   0.11 0.25 0.4  0.25]]\n"
     ]
    },
    {
     "data": {
      "image/png": "[encoded data removed]",
      "text/plain": [
       "<Figure size 432x288 with 2 Axes>"
      ]
     },
     "metadata": {
      "needs_background": "light"
     },
     "output_type": "display_data"
    },
    {
     "data": {
      "image/png": "[encoded data removed]",
      "text/plain": [
       "<Figure size 432x288 with 2 Axes>"
      ]
     },
     "metadata": {
      "needs_background": "light"
     },
     "output_type": "display_data"
    }
   ],
   "source": [
    "from sklearn import metrics\n",
    "names = ['1','2','3','4','5']\n",
    "\n",
    "# Compute confusion matrix\n",
    "cnf_matrix = metrics.confusion_matrix(y_test, preds)\n",
    "np.set_printoptions(precision=2)\n",
    "\n",
    "# Plot non-normalized confusion matrix\n",
    "plt.figure()\n",
    "plot_confusion_matrix(cnf_matrix, classes=names,\n",
    "                      title='Confusion matrix, without normalization')\n",
    "\n",
    "# Plot normalized confusion matrix\n",
    "plt.figure()\n",
    "plot_confusion_matrix(cnf_matrix, classes=names, normalize=True,\n",
    "                      title='Normalized confusion matrix')\n",
    "\n",
    "plt.show()"
   ]
  },
  {
   "cell_type": "markdown",
   "metadata": {},
   "source": [
    "### Accuracy Score"
   ]
  },
  {
   "cell_type": "code",
   "execution_count": 58,
   "metadata": {},
   "outputs": [
    {
     "name": "stdout",
     "output_type": "stream",
     "text": [
      "0.33774834437086093\n"
     ]
    }
   ],
   "source": [
    "from sklearn.metrics import accuracy_score\n",
    "print(accuracy_score(y_test, preds))"
   ]
  },
  {
   "cell_type": "markdown",
   "metadata": {},
   "source": [
    "### Precision & Recall"
   ]
  },
  {
   "cell_type": "code",
   "execution_count": 59,
   "metadata": {
    "scrolled": true
   },
   "outputs": [
    {
     "name": "stdout",
     "output_type": "stream",
     "text": [
      "Precision: 0.43614299592859845\n",
      "Recall: 0.33774834437086093\n"
     ]
    }
   ],
   "source": [
    "from sklearn.metrics import precision_score\n",
    "from sklearn.metrics import recall_score\n",
    "print ('Precision: ' + str(precision_score(y_test, preds, average='weighted')))\n",
    "print ('Recall: ' + str(recall_score(y_test, preds, average='weighted')))"
   ]
  },
  {
   "cell_type": "markdown",
   "metadata": {},
   "source": [
    "### Save the updated predictions"
   ]
  },
  {
   "cell_type": "code",
   "execution_count": null,
   "metadata": {},
   "outputs": [],
   "source": [
    "X_null, X_full_test, y_null, y_full_test = train_test_split(vectors, stars[1], test_size=0.999995, random_state=42, shuffle = False)\n",
    "predict_all = classifier.predict(X_full_test)"
   ]
  },
  {
   "cell_type": "code",
   "execution_count": null,
   "metadata": {},
   "outputs": [],
   "source": [
    "predict_stars = list(predict_all)\n",
    "unbiased_reviews_dataset = reviews_dataset\n",
    "\n",
    "# dropping actual ratings(stars) by user\n",
    "unbiased_reviews_dataset = unbiased_reviews_dataset.drop('stars_y',1)\n",
    "\n",
    "# adding the unbiased predicted rating\n",
    "unbiased_reviews_dataset['stars_y'] = predicted_stars\n"
   ]
  },
  {
   "cell_type": "code",
   "execution_count": null,
   "metadata": {},
   "outputs": [],
   "source": [
    "# write dataframe to csv\n",
    "file_name = \"reviews_restaurants_predicted.csv\"\n",
    "unbiased_reviews_dataset.to_csv(file_name, encoding='utf-8', index=False)"
   ]
  }
 ],
 "metadata": {
  "kernelspec": {
   "display_name": "Python 3",
   "language": "python",
   "name": "python3"
  },
  "language_info": {
   "codemirror_mode": {
    "name": "ipython",
    "version": 3
   },
   "file_extension": ".py",
   "mimetype": "text/x-python",
   "name": "python",
   "nbconvert_exporter": "python",
   "pygments_lexer": "ipython3",
   "version": "3.8.5"
  }
 },
 "nbformat": 4,
 "nbformat_minor": 5
}
